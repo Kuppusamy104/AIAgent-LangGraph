{
 "cells": [
  {
   "cell_type": "markdown",
   "id": "dce8d2aa-f599-423a-81fb-0dcd4d1bdfd1",
   "metadata": {},
   "source": [
    "# DRAFT mini Project"
   ]
  },
  {
   "cell_type": "code",
   "execution_count": null,
   "id": "de71b05a",
   "metadata": {},
   "outputs": [],
   "source": []
  },
  {
   "cell_type": "markdown",
   "id": "35fac377-7ab7-4ed5-bfdf-dba3416fb739",
   "metadata": {},
   "source": [
    "# Boss's Orders\n",
    "\n",
    "Task:\n",
    "\n",
    "Our company is not working efficiently! We spend way too much time\n",
    "drafting documents and this needs to be fixed!\n",
    "\n",
    "For the company, you need to create an Al Agentic System that can\n",
    "speed up drafting documents, emails, etc. The Al Agentic System\n",
    "should have Human-Al Collaboration meaning the Human should be\n",
    "able to able to provide continuous feedback and the Al Agent shoul\n",
    "stop when the Human is happy with the draft. The system should a\n",
    "be fast and be able to save the drafts\n"
   ]
  },
  {
   "cell_type": "code",
   "execution_count": 1,
   "id": "8fa55a62-1ed8-44c6-a017-cd15b610f087",
   "metadata": {},
   "outputs": [],
   "source": [
    "from typing import Annotated, Sequence, TypedDict\n",
    "from dotenv import load_dotenv  \n",
    "from langchain_core.messages import BaseMessage, HumanMessage, AIMessage, ToolMessage, SystemMessage\n",
    "from langchain_openai import ChatOpenAI\n",
    "from langchain_core.tools import tool\n",
    "from langgraph.graph.message import add_messages\n",
    "from langgraph.graph import StateGraph, END\n",
    "from langgraph.prebuilt import ToolNode\n"
   ]
  },
  {
   "cell_type": "code",
   "execution_count": 2,
   "id": "73066713-3828-4313-a81f-4ba68fb439d9",
   "metadata": {},
   "outputs": [
    {
     "data": {
      "text/plain": [
       "True"
      ]
     },
     "execution_count": 2,
     "metadata": {},
     "output_type": "execute_result"
    }
   ],
   "source": [
    "load_dotenv()"
   ]
  },
  {
   "cell_type": "code",
   "execution_count": 3,
   "id": "28a91a84-d9e1-4d23-becd-335652fc5fa9",
   "metadata": {},
   "outputs": [],
   "source": [
    "# This is the global variable to store document content\n",
    "document_content = \"\""
   ]
  },
  {
   "cell_type": "code",
   "execution_count": 4,
   "id": "2a292020-02a5-4a83-8fb2-4fededdae82c",
   "metadata": {},
   "outputs": [],
   "source": [
    "class AgentState(TypedDict):\n",
    "    messages: Annotated[Sequence[BaseMessage], add_messages]"
   ]
  },
  {
   "cell_type": "code",
   "execution_count": 5,
   "id": "ce4df01d-d9e2-45fd-883b-e42e0be75dd7",
   "metadata": {},
   "outputs": [],
   "source": [
    "@tool\n",
    "def update(content: str) -> str:\n",
    "    \"\"\"Updates the document with the provided content.\"\"\"\n",
    "    global document_content\n",
    "    document_content = content\n",
    "    return f\"Document has been updated successfully! The current content is:\\n{document_content}\"\n",
    "\n",
    "\n",
    "@tool\n",
    "def save(filename: str) -> str:\n",
    "    \"\"\"Save the current document to a text file and finish the process.\n",
    "    \n",
    "    Args:\n",
    "        filename: Name for the text file.\n",
    "    \"\"\"\n",
    "\n",
    "    global document_content\n",
    "\n",
    "    if not filename.endswith('.txt'):\n",
    "        filename = f\"{filename}.txt\"\n",
    "\n",
    "\n",
    "    try:\n",
    "        with open(filename, 'w') as file:\n",
    "            file.write(document_content)\n",
    "        print(f\"\\n💾 Document has been saved to: {filename}\")\n",
    "        return f\"Document has been saved successfully to '{filename}'.\"\n",
    "    \n",
    "    except Exception as e:\n",
    "        return f\"Error saving document: {str(e)}\""
   ]
  },
  {
   "cell_type": "code",
   "execution_count": 6,
   "id": "e1e98b52-4dce-435d-b184-841f36b034b6",
   "metadata": {},
   "outputs": [],
   "source": [
    "tools = [update, save]\n",
    "\n",
    "model = ChatOpenAI(model=\"gpt-4o\").bind_tools(tools)"
   ]
  },
  {
   "cell_type": "markdown",
   "id": "83c5a9d4-bee2-40af-9cf3-1590b7bd3afa",
   "metadata": {},
   "source": [
    "# Draft Agent"
   ]
  },
  {
   "cell_type": "code",
   "execution_count": 8,
   "id": "3f12e0fa-8be4-4499-a44c-4f9b3c34d6a2",
   "metadata": {},
   "outputs": [],
   "source": [
    "def our_agent(state: AgentState) -> AgentState:\n",
    "    system_prompt = SystemMessage(content=f\"\"\"\n",
    "    You are Drafter, a helpful writing assistant. You are going to help the user update and modify documents.\n",
    "    \n",
    "    - If the user wants to update or modify content, use the 'update' tool with the complete updated content.\n",
    "    - If the user wants to save and finish, you need to use the 'save' tool.\n",
    "    - Make sure to always show the current document state after modifications.\n",
    "    \n",
    "    The current document content is:{document_content}\n",
    "    \"\"\")\n",
    "\n",
    "    if not state[\"messages\"]:\n",
    "        user_input = \"I'm ready to help you update a document. What would you like to create?\"\n",
    "        user_message = HumanMessage(content=user_input)\n",
    "\n",
    "    else:\n",
    "        user_input = input(\"\\nWhat would you like to do with the document? \")\n",
    "        print(f\"\\n👤 USER: {user_input}\")\n",
    "        user_message = HumanMessage(content=user_input)\n",
    "\n",
    "    all_messages = [system_prompt] + list(state[\"messages\"]) + [user_message]\n",
    "\n",
    "    response = model.invoke(all_messages)\n",
    "\n",
    "    print(f\"\\n🤖 AI: {response.content}\")\n",
    "    if hasattr(response, \"tool_calls\") and response.tool_calls:\n",
    "        print(f\"🔧 USING TOOLS: {[tc['name'] for tc in response.tool_calls]}\")\n",
    "\n",
    "    return {\"messages\": list(state[\"messages\"]) + [user_message, response]}"
   ]
  },
  {
   "cell_type": "code",
   "execution_count": 9,
   "id": "6c7e263a-9e65-4d36-a764-478cbf5b30b3",
   "metadata": {},
   "outputs": [],
   "source": [
    "def should_continue(state: AgentState) -> str:\n",
    "    \"\"\"Determine if we should continue or end the conversation.\"\"\"\n",
    "\n",
    "    messages = state[\"messages\"]\n",
    "    \n",
    "    if not messages:\n",
    "        return \"continue\"\n",
    "    \n",
    "    # This looks for the most recent tool message....\n",
    "    for message in reversed(messages):\n",
    "        # ... and checks if this is a ToolMessage resulting from save\n",
    "        if (isinstance(message, ToolMessage) and \n",
    "            \"saved\" in message.content.lower() and\n",
    "            \"document\" in message.content.lower()):\n",
    "            return \"end\" # goes to the end edge which leads to the endpoint\n",
    "        \n",
    "    return \"continue\""
   ]
  },
  {
   "cell_type": "code",
   "execution_count": 11,
   "id": "bbabb697-9065-43a4-8655-f4920a56bcd8",
   "metadata": {},
   "outputs": [],
   "source": [
    "def print_messages(messages):\n",
    "    \"\"\"Function I made to print the messages in a more readable format\"\"\"\n",
    "    if not messages:\n",
    "        return\n",
    "    \n",
    "    for message in messages[-3:]:\n",
    "        if isinstance(message, ToolMessage):\n",
    "            print(f\"\\n🛠️ TOOL RESULT: {message.content}\")"
   ]
  },
  {
   "cell_type": "code",
   "execution_count": 12,
   "id": "2836936e-e0e9-433f-86bc-29ba674ab4a1",
   "metadata": {},
   "outputs": [
    {
     "data": {
      "text/plain": [
       "<langgraph.graph.state.StateGraph at 0x242d73d5d90>"
      ]
     },
     "execution_count": 12,
     "metadata": {},
     "output_type": "execute_result"
    }
   ],
   "source": [
    "graph = StateGraph(AgentState)\n",
    "\n",
    "graph.add_node(\"agent\", our_agent)\n",
    "graph.add_node(\"tools\", ToolNode(tools))\n",
    "\n",
    "graph.set_entry_point(\"agent\")\n",
    "\n",
    "graph.add_edge(\"agent\", \"tools\")\n",
    "\n",
    "\n",
    "graph.add_conditional_edges(\n",
    "    \"tools\",\n",
    "    should_continue,\n",
    "    {\n",
    "        \"continue\": \"agent\",\n",
    "        \"end\": END,\n",
    "    },\n",
    ")"
   ]
  },
  {
   "cell_type": "code",
   "execution_count": 13,
   "id": "4bbbbe57-d470-43e4-be88-cac672102b29",
   "metadata": {},
   "outputs": [],
   "source": [
    "app = graph.compile()"
   ]
  },
  {
   "cell_type": "code",
   "execution_count": 14,
   "id": "9008bbd6-801f-4219-84ad-a5561e5d50d9",
   "metadata": {},
   "outputs": [
    {
     "name": "stdout",
     "output_type": "stream",
     "text": [
      "\n",
      " ===== DRAFTER =====\n",
      "\n",
      "🤖 AI: We don't have any content stored in the document yet. Please provide some text or let me know what you'd like to create or include, and I'll help you with it.\n"
     ]
    },
    {
     "name": "stdout",
     "output_type": "stream",
     "text": [
      "\n",
      "What would you like to do with the document?  generate a sick leave mail\n"
     ]
    },
    {
     "name": "stdout",
     "output_type": "stream",
     "text": [
      "\n",
      "👤 USER: generate a sick leave mail\n",
      "\n",
      "🤖 AI: \n",
      "🔧 USING TOOLS: ['update']\n",
      "\n",
      "🛠️ TOOL RESULT: Document has been updated successfully! The current content is:\n",
      "Subject: Sick Leave Request\n",
      "\n",
      "Dear [Manager's Name],\n",
      "\n",
      "I hope this message finds you well. I am writing to inform you that I am unable to attend work due to a sudden illness. Regrettably, I will need to take sick leave starting today, [start date], and will keep you updated on my health progress.\n",
      "\n",
      "I plan to visit my doctor and will follow their recommendations regarding the duration of my leave. I will ensure that all my pending tasks are up to date and will hand over any important responsibilities to [Colleague's Name] during my absence.\n",
      "\n",
      "I apologize for any inconvenience my absence might cause and thank you for your understanding. Please let me know if there are any forms or formalities I need to complete from my side.\n",
      "\n",
      "Thank you for your consideration.\n",
      "\n",
      "Warm regards,\n",
      "\n",
      "[Your Name]\n"
     ]
    },
    {
     "name": "stdout",
     "output_type": "stream",
     "text": [
      "\n",
      "What would you like to do with the document?  Manager name is sai\n"
     ]
    },
    {
     "name": "stdout",
     "output_type": "stream",
     "text": [
      "\n",
      "👤 USER: Manager name is sai\n",
      "\n",
      "🤖 AI: \n",
      "🔧 USING TOOLS: ['update']\n",
      "\n",
      "🛠️ TOOL RESULT: Document has been updated successfully! The current content is:\n",
      "Subject: Sick Leave Request\n",
      "\n",
      "Dear [Manager's Name],\n",
      "\n",
      "I hope this message finds you well. I am writing to inform you that I am unable to attend work due to a sudden illness. Regrettably, I will need to take sick leave starting today, [start date], and will keep you updated on my health progress.\n",
      "\n",
      "I plan to visit my doctor and will follow their recommendations regarding the duration of my leave. I will ensure that all my pending tasks are up to date and will hand over any important responsibilities to [Colleague's Name] during my absence.\n",
      "\n",
      "I apologize for any inconvenience my absence might cause and thank you for your understanding. Please let me know if there are any forms or formalities I need to complete from my side.\n",
      "\n",
      "Thank you for your consideration.\n",
      "\n",
      "Warm regards,\n",
      "\n",
      "[Your Name]\n",
      "\n",
      "🛠️ TOOL RESULT: Document has been updated successfully! The current content is:\n",
      "Subject: Sick Leave Request\n",
      "\n",
      "Dear Sai,\n",
      "\n",
      "I hope this message finds you well. I am writing to inform you that I am unable to attend work due to a sudden illness. Regrettably, I will need to take sick leave starting today, [start date], and will keep you updated on my health progress.\n",
      "\n",
      "I plan to visit my doctor and will follow their recommendations regarding the duration of my leave. I will ensure that all my pending tasks are up to date and will hand over any important responsibilities to [Colleague's Name] during my absence.\n",
      "\n",
      "I apologize for any inconvenience my absence might cause and thank you for your understanding. Please let me know if there are any forms or formalities I need to complete from my side.\n",
      "\n",
      "Thank you for your consideration.\n",
      "\n",
      "Warm regards,\n",
      "\n",
      "[Your Name]\n"
     ]
    },
    {
     "name": "stdout",
     "output_type": "stream",
     "text": [
      "\n",
      "What would you like to do with the document?  extending the leave tomorrow as well\n"
     ]
    },
    {
     "name": "stdout",
     "output_type": "stream",
     "text": [
      "\n",
      "👤 USER: extending the leave tomorrow as well\n",
      "\n",
      "🤖 AI: \n",
      "🔧 USING TOOLS: ['update']\n",
      "\n",
      "🛠️ TOOL RESULT: Document has been updated successfully! The current content is:\n",
      "Subject: Sick Leave Request\n",
      "\n",
      "Dear Sai,\n",
      "\n",
      "I hope this message finds you well. I am writing to inform you that I am unable to attend work due to a sudden illness. Regrettably, I will need to take sick leave starting today, [start date], and will keep you updated on my health progress.\n",
      "\n",
      "I plan to visit my doctor and will follow their recommendations regarding the duration of my leave. I will ensure that all my pending tasks are up to date and will hand over any important responsibilities to [Colleague's Name] during my absence.\n",
      "\n",
      "I apologize for any inconvenience my absence might cause and thank you for your understanding. Please let me know if there are any forms or formalities I need to complete from my side.\n",
      "\n",
      "Thank you for your consideration.\n",
      "\n",
      "Warm regards,\n",
      "\n",
      "[Your Name]\n",
      "\n",
      "🛠️ TOOL RESULT: Document has been updated successfully! The current content is:\n",
      "Subject: Sick Leave Request\n",
      "\n",
      "Dear Sai,\n",
      "\n",
      "I hope this message finds you well. I am writing to inform you that I am unable to attend work due to a sudden illness. Regrettably, I will need to take sick leave starting today and extending through tomorrow as well. I will keep you updated on my health progress.\n",
      "\n",
      "I plan to visit my doctor and will follow their recommendations regarding the duration of my leave. I will ensure that all my pending tasks are up to date and will hand over any important responsibilities to [Colleague's Name] during my absence.\n",
      "\n",
      "I apologize for any inconvenience my absence might cause and thank you for your understanding. Please let me know if there are any forms or formalities I need to complete from my side.\n",
      "\n",
      "Thank you for your consideration.\n",
      "\n",
      "Warm regards,\n",
      "\n",
      "[Your Name]\n"
     ]
    },
    {
     "name": "stdout",
     "output_type": "stream",
     "text": [
      "\n",
      "What would you like to do with the document?  great save this\n"
     ]
    },
    {
     "name": "stdout",
     "output_type": "stream",
     "text": [
      "\n",
      "👤 USER: great save this\n",
      "\n",
      "🤖 AI: \n",
      "🔧 USING TOOLS: ['save']\n",
      "\n",
      "🛠️ TOOL RESULT: Document has been updated successfully! The current content is:\n",
      "Subject: Sick Leave Request\n",
      "\n",
      "Dear Sai,\n",
      "\n",
      "I hope this message finds you well. I am writing to inform you that I am unable to attend work due to a sudden illness. Regrettably, I will need to take sick leave starting today and extending through tomorrow as well. I will keep you updated on my health progress.\n",
      "\n",
      "I plan to visit my doctor and will follow their recommendations regarding the duration of my leave. I will ensure that all my pending tasks are up to date and will hand over any important responsibilities to [Colleague's Name] during my absence.\n",
      "\n",
      "I apologize for any inconvenience my absence might cause and thank you for your understanding. Please let me know if there are any forms or formalities I need to complete from my side.\n",
      "\n",
      "Thank you for your consideration.\n",
      "\n",
      "Warm regards,\n",
      "\n",
      "[Your Name]\n",
      "\n",
      "💾 Document has been saved to: Sick_Leave_Request.txt\n",
      "\n",
      "🛠️ TOOL RESULT: Document has been saved successfully to 'Sick_Leave_Request.txt'.\n",
      "\n",
      " ===== DRAFTER FINISHED =====\n"
     ]
    }
   ],
   "source": [
    "def run_document_agent():\n",
    "    print(\"\\n ===== DRAFTER =====\")\n",
    "    \n",
    "    state = {\"messages\": []}\n",
    "    \n",
    "    for step in app.stream(state, stream_mode=\"values\"):\n",
    "        if \"messages\" in step:\n",
    "            print_messages(step[\"messages\"])\n",
    "    \n",
    "    print(\"\\n ===== DRAFTER FINISHED =====\")\n",
    "\n",
    "if __name__ == \"__main__\":\n",
    "    run_document_agent()\n"
   ]
  },
  {
   "cell_type": "code",
   "execution_count": null,
   "id": "95e6d4f0-5d80-4939-97c6-6f738533b9b9",
   "metadata": {},
   "outputs": [],
   "source": []
  }
 ],
 "metadata": {
  "kernelspec": {
   "display_name": "Python 3 (ipykernel)",
   "language": "python",
   "name": "python3"
  },
  "language_info": {
   "codemirror_mode": {
    "name": "ipython",
    "version": 3
   },
   "file_extension": ".py",
   "mimetype": "text/x-python",
   "name": "python",
   "nbconvert_exporter": "python",
   "pygments_lexer": "ipython3",
   "version": "3.12.4"
  }
 },
 "nbformat": 4,
 "nbformat_minor": 5
}
