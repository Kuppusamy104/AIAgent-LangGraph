{
 "cells": [
  {
   "cell_type": "markdown",
   "id": "c144a09e-1f92-4888-8fb6-5b726f9aed6b",
   "metadata": {},
   "source": [
    "# Memory Agent"
   ]
  },
  {
   "cell_type": "code",
   "execution_count": 13,
   "id": "1dc5be12-c25c-42d7-a52b-12b5414f3251",
   "metadata": {},
   "outputs": [],
   "source": [
    "import os\n",
    "from typing import TypedDict, List, Union\n",
    "from langchain_core.messages import HumanMessage, AIMessage\n",
    "from langchain_openai import ChatOpenAI\n",
    "from langgraph.graph import StateGraph, START, END\n",
    "from dotenv import load_dotenv"
   ]
  },
  {
   "cell_type": "code",
   "execution_count": 2,
   "id": "2606e67a-1f86-470d-9a69-c6aee340bf1c",
   "metadata": {},
   "outputs": [
    {
     "data": {
      "text/plain": [
       "True"
      ]
     },
     "execution_count": 2,
     "metadata": {},
     "output_type": "execute_result"
    }
   ],
   "source": [
    "#load_dotenv()"
   ]
  },
  {
   "cell_type": "code",
   "execution_count": 14,
   "id": "5906490f-fcd7-4ea5-a4db-5d5625ae2c32",
   "metadata": {},
   "outputs": [],
   "source": [
    "class AgentState(TypedDict):\n",
    "    messages: List[Union[HumanMessage, AIMessage]]\n",
    "    llm = ChatOpenAI(model=\"gpt-4o\")"
   ]
  },
  {
   "cell_type": "code",
   "execution_count": 15,
   "id": "ee3a5dfc-22b8-4fbd-9d40-22d52ad476c8",
   "metadata": {},
   "outputs": [],
   "source": [
    "def process(state: AgentState) -> AgentState:\n",
    "    \"\"\"This node will solve the request you input\"\"\"\n",
    "    response = llm.invoke(state[\"messages\"])\n",
    "\n",
    "    state[\"messages\"].append(AIMessage(content=response.content)) \n",
    "    print(f\"\\nAI: {response.content}\")\n",
    "    print(\"CURRENT STATE: \", state[\"messages\"])\n",
    "\n",
    "    return state"
   ]
  },
  {
   "cell_type": "code",
   "execution_count": 16,
   "id": "22dee33c-7295-44ef-a1fd-f0c6280ee11a",
   "metadata": {},
   "outputs": [],
   "source": [
    "graph = StateGraph(AgentState)\n",
    "graph.add_node(\"process\", process)\n",
    "graph.add_edge(START, \"process\")\n",
    "graph.add_edge(\"process\", END) \n",
    "agent = graph.compile()"
   ]
  },
  {
   "cell_type": "code",
   "execution_count": 17,
   "id": "ad7dfd4f-d732-438a-a752-c2d4a8d9778e",
   "metadata": {},
   "outputs": [],
   "source": [
    "conversation_history = []"
   ]
  },
  {
   "cell_type": "code",
   "execution_count": 18,
   "id": "952582f6-6b91-4d18-b5f1-d847f3f52b99",
   "metadata": {},
   "outputs": [
    {
     "name": "stdin",
     "output_type": "stream",
     "text": [
      "Enter:  hi\n"
     ]
    },
    {
     "name": "stdout",
     "output_type": "stream",
     "text": [
      "\n",
      "AI: Hello! How can I assist you today?\n",
      "CURRENT STATE:  [HumanMessage(content='hi', additional_kwargs={}, response_metadata={}), AIMessage(content='Hello! How can I assist you today?', additional_kwargs={}, response_metadata={})]\n"
     ]
    },
    {
     "name": "stdin",
     "output_type": "stream",
     "text": [
      "Enter:  exit\n"
     ]
    }
   ],
   "source": [
    "user_input = input(\"Enter: \")\n",
    "while user_input != \"exit\":\n",
    "    conversation_history.append(HumanMessage(content=user_input))\n",
    "    result = agent.invoke({\"messages\": conversation_history})\n",
    "    conversation_history = result[\"messages\"]\n",
    "    user_input = input(\"Enter: \")"
   ]
  },
  {
   "cell_type": "code",
   "execution_count": 19,
   "id": "eaaff901-1508-47d4-a6f7-3c5e2cd0c976",
   "metadata": {},
   "outputs": [
    {
     "name": "stdout",
     "output_type": "stream",
     "text": [
      "Conversation saved to logging.txt\n"
     ]
    }
   ],
   "source": [
    "with open(\"logging.txt\", \"w\") as file:\n",
    "    file.write(\"Your Conversation Log:\\n\")\n",
    "    \n",
    "    for message in conversation_history:\n",
    "        if isinstance(message, HumanMessage):\n",
    "            file.write(f\"You: {message.content}\\n\")\n",
    "        elif isinstance(message, AIMessage):\n",
    "            file.write(f\"AI: {message.content}\\n\\n\")\n",
    "    file.write(\"End of Conversation\")\n",
    "\n",
    "print(\"Conversation saved to logging.txt\")"
   ]
  },
  {
   "cell_type": "code",
   "execution_count": null,
   "id": "a8cb5956-388a-4353-abe0-c68d8327d435",
   "metadata": {},
   "outputs": [],
   "source": []
  }
 ],
 "metadata": {
  "kernelspec": {
   "display_name": "Python 3 (ipykernel)",
   "language": "python",
   "name": "python3"
  },
  "language_info": {
   "codemirror_mode": {
    "name": "ipython",
    "version": 3
   },
   "file_extension": ".py",
   "mimetype": "text/x-python",
   "name": "python",
   "nbconvert_exporter": "python",
   "pygments_lexer": "ipython3",
   "version": "3.12.4"
  }
 },
 "nbformat": 4,
 "nbformat_minor": 5
}
