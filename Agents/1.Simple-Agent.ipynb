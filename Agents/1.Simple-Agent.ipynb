{
 "cells": [
  {
   "cell_type": "code",
   "execution_count": 1,
   "id": "a1a496f0-7940-4a9e-a75b-248652e7ee36",
   "metadata": {},
   "outputs": [],
   "source": [
    "#pip install python-dotenv"
   ]
  },
  {
   "cell_type": "code",
   "execution_count": 2,
   "id": "612f6473-120e-491f-bafb-f72029576ae5",
   "metadata": {},
   "outputs": [],
   "source": [
    "from typing import TypedDict, List\n",
    "from langchain_core.messages import HumanMessage\n",
    "from langchain_openai import ChatOpenAI\n",
    "from langgraph.graph import StateGraph, START, END\n",
    "from dotenv import load_dotenv # used to store secret stuff like API keys or configuration values\n",
    "import os"
   ]
  },
  {
   "cell_type": "code",
   "execution_count": 3,
   "id": "f34bfa9b-94d1-499a-a629-6d129d12fba0",
   "metadata": {},
   "outputs": [
    {
     "data": {
      "text/plain": [
       "True"
      ]
     },
     "execution_count": 3,
     "metadata": {},
     "output_type": "execute_result"
    }
   ],
   "source": [
    "load_dotenv()"
   ]
  },
  {
   "cell_type": "code",
   "execution_count": 4,
   "id": "5673b4b5-c287-43d4-8982-1f1818a3a3ed",
   "metadata": {},
   "outputs": [],
   "source": [
    "#openai_key = os.getenv(\"OPENAI_API_KEY\")  # access the key Should print your key\n",
    "#llm = ChatOpenAI(openai_api_key=openai_key, model=\"gpt-4o-mini\")"
   ]
  },
  {
   "cell_type": "code",
   "execution_count": 5,
   "id": "2a4059c6-d21c-4bf8-ac65-e395095e8200",
   "metadata": {},
   "outputs": [],
   "source": [
    "class AgentState(TypedDict):\n",
    "    messages: List[HumanMessage]\n",
    "\n",
    "llm = ChatOpenAI(model=\"gpt-4o-mini\")\n"
   ]
  },
  {
   "cell_type": "code",
   "execution_count": 6,
   "id": "fce61201-d105-4247-8534-0562fa1fd258",
   "metadata": {},
   "outputs": [],
   "source": [
    "def process(state: AgentState) -> AgentState:\n",
    "    response = llm.invoke(state[\"messages\"])\n",
    "    print(f\"\\nAI: {response.content}\")\n",
    "    return state"
   ]
  },
  {
   "cell_type": "code",
   "execution_count": 7,
   "id": "9b8ba3b7-0ee8-43f5-9a2c-e0607a3c9878",
   "metadata": {},
   "outputs": [],
   "source": [
    "graph = StateGraph(AgentState)\n",
    "graph.add_node(\"process\", process)\n",
    "graph.add_edge(START, \"process\")\n",
    "graph.add_edge(\"process\", END) \n",
    "agent = graph.compile()"
   ]
  },
  {
   "cell_type": "markdown",
   "id": "28603e22-6b5a-4564-af6b-469b5ef87d3d",
   "metadata": {},
   "source": [
    "# One simple message "
   ]
  },
  {
   "cell_type": "code",
   "execution_count": 8,
   "id": "ea7887fc-e322-4e24-b2bd-331c1478a8f1",
   "metadata": {},
   "outputs": [
    {
     "name": "stdin",
     "output_type": "stream",
     "text": [
      "Enter:  Hi Agent\n"
     ]
    }
   ],
   "source": [
    "user_input = input(\"Enter: \")  # One message"
   ]
  },
  {
   "cell_type": "code",
   "execution_count": 11,
   "id": "cc3d08ca-9043-44e6-bbdb-a1df8cf573fc",
   "metadata": {},
   "outputs": [
    {
     "name": "stdout",
     "output_type": "stream",
     "text": [
      "\n",
      "AI: Hello! How can I assist you today?\n",
      "{'messages': [HumanMessage(content='Hi Agent', additional_kwargs={}, response_metadata={})]}\n"
     ]
    }
   ],
   "source": [
    "response = agent.invoke({\"messages\":[HumanMessage(content=user_input)] })\n",
    "print(response)"
   ]
  },
  {
   "cell_type": "markdown",
   "id": "d99b0757-860d-4a55-ab64-68e79a3f59e0",
   "metadata": {},
   "source": [
    "# conversational chat bot\n",
    "Until user exist from the chat "
   ]
  },
  {
   "cell_type": "code",
   "execution_count": null,
   "id": "4bb2c0ff-082b-439e-be95-2cb502da59f7",
   "metadata": {},
   "outputs": [
    {
     "name": "stdin",
     "output_type": "stream",
     "text": [
      "Enter:  hi\n"
     ]
    },
    {
     "name": "stdout",
     "output_type": "stream",
     "text": [
      "\n",
      "AI: Hello! How can I assist you today?\n"
     ]
    },
    {
     "name": "stdin",
     "output_type": "stream",
     "text": [
      "Enter:  my name is kuppu\n"
     ]
    },
    {
     "name": "stdout",
     "output_type": "stream",
     "text": [
      "\n",
      "AI: Nice to meet you, Kuppu! How can I assist you today?\n"
     ]
    },
    {
     "name": "stdin",
     "output_type": "stream",
     "text": [
      "Enter:  what is my name?\n"
     ]
    },
    {
     "name": "stdout",
     "output_type": "stream",
     "text": [
      "\n",
      "AI: I'm sorry, but I don't know your name. How can I assist you today?\n"
     ]
    }
   ],
   "source": [
    "user_input = input(\"Enter: \") \n",
    "while user_input != \"exit\" :\n",
    "    agent.invoke({\"messages\":[HumanMessage(content=user_input)] })\n",
    "    user_input = input(\"Enter: \") \n"
   ]
  },
  {
   "cell_type": "code",
   "execution_count": null,
   "id": "969e0780-5409-4414-8363-2e84bcfe82e5",
   "metadata": {},
   "outputs": [],
   "source": [
    "\n",
    "\n"
   ]
  }
 ],
 "metadata": {
  "kernelspec": {
   "display_name": "Python 3 (ipykernel)",
   "language": "python",
   "name": "python3"
  },
  "language_info": {
   "codemirror_mode": {
    "name": "ipython",
    "version": 3
   },
   "file_extension": ".py",
   "mimetype": "text/x-python",
   "name": "python",
   "nbconvert_exporter": "python",
   "pygments_lexer": "ipython3",
   "version": "3.12.4"
  }
 },
 "nbformat": 4,
 "nbformat_minor": 5
}
