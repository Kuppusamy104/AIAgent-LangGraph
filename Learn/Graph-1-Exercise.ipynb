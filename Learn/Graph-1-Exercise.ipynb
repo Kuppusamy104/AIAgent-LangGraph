{
 "cells": [
  {
   "cell_type": "markdown",
   "id": "6c429657-f302-4576-9d81-66c7fedb57a5",
   "metadata": {},
   "source": [
    "# Learning Langgraph - Pass single Input to Agent "
   ]
  },
  {
   "cell_type": "markdown",
   "id": "c8722611-ddfd-4a54-9d62-ce3cc323deb6",
   "metadata": {},
   "source": [
    "# Graph -1 - Excercise"
   ]
  },
  {
   "cell_type": "markdown",
   "id": "84a96b9c-364c-4f82-852d-44e6ad6a344d",
   "metadata": {},
   "source": [
    "# Import the required Lib "
   ]
  },
  {
   "cell_type": "code",
   "execution_count": 1,
   "id": "b85e8d33-0083-4039-9291-d9e664d775a5",
   "metadata": {},
   "outputs": [],
   "source": [
    "from typing import Dict,TypedDict"
   ]
  },
  {
   "cell_type": "code",
   "execution_count": null,
   "id": "fda5de29-0a61-4f82-acf2-b128764a9f55",
   "metadata": {},
   "outputs": [],
   "source": [
    "#!pip install langgraph"
   ]
  },
  {
   "cell_type": "code",
   "execution_count": 3,
   "id": "8bd19550-0bac-4628-a11a-31d2906b29dc",
   "metadata": {},
   "outputs": [],
   "source": [
    "from langgraph.graph import StateGraph"
   ]
  },
  {
   "cell_type": "markdown",
   "id": "4a986423-9949-4d1b-807a-3acd8fd51e76",
   "metadata": {},
   "source": [
    "# Create the AgentState :\n",
    "# create an AgentState-shared data structure that keeps track of info as your app runs."
   ]
  },
  {
   "cell_type": "code",
   "execution_count": 5,
   "id": "2aa85403-6385-44d7-a81c-509ded8bab37",
   "metadata": {},
   "outputs": [],
   "source": [
    "class AgentState(TypedDict): # our state schema\n",
    "    message:str\n"
   ]
  },
  {
   "cell_type": "markdown",
   "id": "fbde588d-c66f-498a-b33b-be37f2b4f967",
   "metadata": {},
   "source": [
    "# Adding Node:"
   ]
  },
  {
   "cell_type": "markdown",
   "id": "de510ab4-4e04-4848-aaec-54ff62224076",
   "metadata": {},
   "source": [
    "# Simple node that adds a greeting message to the state"
   ]
  },
  {
   "cell_type": "code",
   "execution_count": 7,
   "id": "34af12a4-c948-4d60-a2d8-e32eb80777cb",
   "metadata": {},
   "outputs": [],
   "source": [
    "def greeting_node(state : AgentState)-> AgentState:\n",
    "    state['message']=\"hey \" +state['message']+ \",how was the day!\"\n",
    "    return state"
   ]
  },
  {
   "cell_type": "markdown",
   "id": "68f3c39b-9a51-405e-871c-da8a487fc8ed",
   "metadata": {},
   "source": [
    "# Create the Grapg using stategraph in langgraph"
   ]
  },
  {
   "cell_type": "code",
   "execution_count": 9,
   "id": "20f7c41c-5791-4739-aea3-c053660551c4",
   "metadata": {},
   "outputs": [],
   "source": [
    "graph = StateGraph(AgentState) # pass state schema\n"
   ]
  },
  {
   "cell_type": "markdown",
   "id": "6860560a-f638-41f4-b607-2cf96d006a37",
   "metadata": {},
   "source": [
    "# Add Node "
   ]
  },
  {
   "cell_type": "code",
   "execution_count": 11,
   "id": "fd222070-c02a-4982-9307-8c91581f5cd2",
   "metadata": {},
   "outputs": [
    {
     "data": {
      "text/plain": [
       "<langgraph.graph.state.StateGraph at 0x1860a92c080>"
      ]
     },
     "execution_count": 11,
     "metadata": {},
     "output_type": "execute_result"
    }
   ],
   "source": [
    "graph.add_node(\"greeter\",greeting_node) # node name is greeter"
   ]
  },
  {
   "cell_type": "markdown",
   "id": "a4e312fd-7bc0-4ecf-8151-adf13d2dc268",
   "metadata": {},
   "source": [
    "# Add Entry point"
   ]
  },
  {
   "cell_type": "code",
   "execution_count": 13,
   "id": "a7d6582a-590d-46c2-b94f-95a4e7b7bd9f",
   "metadata": {},
   "outputs": [
    {
     "data": {
      "text/plain": [
       "<langgraph.graph.state.StateGraph at 0x1860a92c080>"
      ]
     },
     "execution_count": 13,
     "metadata": {},
     "output_type": "execute_result"
    }
   ],
   "source": [
    "graph.set_entry_point(\"greeter\")"
   ]
  },
  {
   "cell_type": "markdown",
   "id": "ef922c1d-a008-43f0-bd81-e7a283763e87",
   "metadata": {},
   "source": [
    "# Add Exit point"
   ]
  },
  {
   "cell_type": "code",
   "execution_count": 15,
   "id": "6e217b98-22fe-4962-9d51-4fd12be33e15",
   "metadata": {},
   "outputs": [
    {
     "data": {
      "text/plain": [
       "<langgraph.graph.state.StateGraph at 0x1860a92c080>"
      ]
     },
     "execution_count": 15,
     "metadata": {},
     "output_type": "execute_result"
    }
   ],
   "source": [
    "graph.set_finish_point(\"greeter\")"
   ]
  },
  {
   "cell_type": "markdown",
   "id": "bfa49e95-3a2c-4e09-b6cc-efc89233c9be",
   "metadata": {},
   "source": [
    "# Compile the graph"
   ]
  },
  {
   "cell_type": "code",
   "execution_count": 20,
   "id": "64ea2a85-c46f-4d81-a622-f2a3fb31ebce",
   "metadata": {},
   "outputs": [],
   "source": [
    "app = graph.compile()"
   ]
  },
  {
   "cell_type": "markdown",
   "id": "3f01b7b4-6772-487b-8bbc-827817d0b9ba",
   "metadata": {},
   "source": [
    "# Visualize the graph"
   ]
  },
  {
   "cell_type": "code",
   "execution_count": 32,
   "id": "2303a9ec-8e59-40f8-b5df-b44d377c64a6",
   "metadata": {},
   "outputs": [
    {
     "name": "stdout",
     "output_type": "stream",
     "text": [
      "Defaulting to user installation because normal site-packages is not writeable\n",
      "Collecting graphviz\n",
      "  Downloading graphviz-0.21-py3-none-any.whl.metadata (12 kB)\n",
      "Downloading graphviz-0.21-py3-none-any.whl (47 kB)\n",
      "   ---------------------------------------- 0.0/47.3 kB ? eta -:--:--\n",
      "   -------- ------------------------------- 10.2/47.3 kB ? eta -:--:--\n",
      "   ---------------------------------------- 47.3/47.3 kB 588.3 kB/s eta 0:00:00\n",
      "Installing collected packages: graphviz\n",
      "Successfully installed graphviz-0.21\n"
     ]
    }
   ],
   "source": [
    "#!pip install graphviz\n"
   ]
  },
  {
   "cell_type": "code",
   "execution_count": 42,
   "id": "49de6ceb-def8-4dd7-b0eb-5a34bc1d9685",
   "metadata": {},
   "outputs": [
    {
     "data": {
      "image/png": "[encoded data removed]",
      "text/plain": [
       "<IPython.core.display.Image object>"
      ]
     },
     "metadata": {},
     "output_type": "display_data"
    }
   ],
   "source": [
    "from IPython.display import Image, display\n",
    "display(Image(app.get_graph().draw_mermaid_png()))\n"
   ]
  },
  {
   "cell_type": "markdown",
   "id": "fba81043-b254-4048-a191-22f99d401851",
   "metadata": {},
   "source": [
    " # Invoke the graph"
   ]
  },
  {
   "cell_type": "code",
   "execution_count": 56,
   "id": "8dd845bd-6b93-474d-9432-ada5a1900cea",
   "metadata": {},
   "outputs": [],
   "source": [
    "result = app.invoke({\"message\": \"kuppu\"})"
   ]
  },
  {
   "cell_type": "code",
   "execution_count": 58,
   "id": "13291989-d20a-48be-bb95-bc569a0e1671",
   "metadata": {},
   "outputs": [
    {
     "data": {
      "text/plain": [
       "{'message': 'hey kuppu,how was the day!'}"
      ]
     },
     "execution_count": 58,
     "metadata": {},
     "output_type": "execute_result"
    }
   ],
   "source": [
    "result"
   ]
  },
  {
   "cell_type": "code",
   "execution_count": null,
   "id": "bbc10add-10c8-4753-b71e-c133a5247620",
   "metadata": {},
   "outputs": [],
   "source": []
  }
 ],
 "metadata": {
  "kernelspec": {
   "display_name": "Python 3 (ipykernel)",
   "language": "python",
   "name": "python3"
  },
  "language_info": {
   "codemirror_mode": {
    "name": "ipython",
    "version": 3
   },
   "file_extension": ".py",
   "mimetype": "text/x-python",
   "name": "python",
   "nbconvert_exporter": "python",
   "pygments_lexer": "ipython3",
   "version": "3.12.4"
  }
 },
 "nbformat": 4,
 "nbformat_minor": 5
}
